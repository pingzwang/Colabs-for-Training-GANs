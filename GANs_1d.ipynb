{
  "cells": [
    {
      "cell_type": "markdown",
      "metadata": {
        "id": "view-in-github",
        "colab_type": "text"
      },
      "source": [
        "<a href=\"https://colab.research.google.com/github/pingzwang/Colabs-for-Training-GANs/blob/main/GANs_1d.ipynb\" target=\"_parent\"><img src=\"https://colab.research.google.com/assets/colab-badge.svg\" alt=\"Open In Colab\"/></a>"
      ]
    },
    {
      "cell_type": "code",
      "execution_count": null,
      "metadata": {
        "id": "xh89N0ecgiHA"
      },
      "outputs": [],
      "source": [
        "%matplotlib inline\n",
        "import numpy as np\n",
        "import torch\n",
        "import torch.nn as nn\n",
        "\n",
        "import matplotlib.pyplot as plt\n",
        "from IPython.display import clear_output\n",
        "import seaborn as sns\n"
      ]
    },
    {
      "cell_type": "code",
      "execution_count": null,
      "metadata": {
        "id": "r3JYCkS1giHC"
      },
      "outputs": [],
      "source": [
        "def get_uniform(batch_size):\n",
        "    return torch.rand(batch_size, 1)"
      ]
    },
    {
      "cell_type": "code",
      "execution_count": null,
      "metadata": {
        "id": "SGpPHN4dgiHC"
      },
      "outputs": [],
      "source": [
        "def get_normal(batch_size):\n",
        "    return torch.randn(batch_size, 1) + 5"
      ]
    },
    {
      "cell_type": "code",
      "execution_count": null,
      "metadata": {
        "id": "-Jw2r1ZKgiHD"
      },
      "outputs": [],
      "source": [
        "class Generator(nn.Module):\n",
        "    def __init__(self):\n",
        "        \"\"\"\n",
        "        Generator transform the uniform distribution to the normal distibution\n",
        "        \"\"\"\n",
        "        super().__init__()\n",
        "        self.main = nn.Sequential(\n",
        "            nn.Linear(in_features=1, out_features=16),\n",
        "            nn.ReLU(),\n",
        "            nn.Linear(in_features=16, out_features=1)\n",
        "        )\n",
        "        \n",
        "    def forward(self, x):\n",
        "        return self.main(x)\n",
        "    \n",
        "    \n",
        "class Discriminator(nn.Module):\n",
        "    def __init__(self):\n",
        "        \"\"\"\n",
        "        disc(x) return probability of x to be real class\n",
        "        \"\"\"\n",
        "        super().__init__()\n",
        "        self.main = nn.Sequential(\n",
        "            nn.Linear(in_features=1, out_features=64),\n",
        "            nn.ReLU(),\n",
        "            nn.Linear(in_features=64, out_features=1),\n",
        "            nn.Sigmoid()\n",
        "        )\n",
        "        \n",
        "    def forward(self, x):\n",
        "        return self.main(x)\n",
        "\n",
        "gen = Generator()\n",
        "disc = Discriminator()"
      ]
    },
    {
      "cell_type": "code",
      "execution_count": null,
      "metadata": {
        "id": "aqcylWqsgiHE"
      },
      "outputs": [],
      "source": [
        "generator_opt = torch.optim.SGD(gen.parameters(), lr=1e-3)\n",
        "discriminator_opt = torch.optim.SGD(disc.parameters(), lr=1e-3)"
      ]
    },
    {
      "cell_type": "code",
      "execution_count": null,
      "metadata": {
        "id": "DYL94JNVgiHF"
      },
      "outputs": [],
      "source": [
        "def update_D(batch_size):\n",
        "    # 1. sample real data\n",
        "    # 2. compute probability of real object to be real\n",
        "    \n",
        "    real_samples = get_normal(batch_size)\n",
        "    prob_real_is_real = disc(real_samples)\n",
        "    \n",
        "    \n",
        "    # 1. sample noise\n",
        "    # 2. obtain generated samples\n",
        "    # 3. compute probability of fake object to be fake\n",
        "    \n",
        "    noise = get_uniform(batch_size)\n",
        "    generated_samples = gen(noise)\n",
        "    prob_fake_is_fake = 1 - disc(generated_samples)\n",
        "    \n",
        "    \n",
        "    # compute loss function\n",
        "    \n",
        "    loss = (- torch.log(prob_real_is_real) - torch.log(prob_fake_is_fake)).mean()\n",
        "    \n",
        "    \n",
        "    # make gradient step\n",
        "    discriminator_opt.zero_grad()\n",
        "    loss.backward()\n",
        "    discriminator_opt.step()\n",
        "    \n",
        "    return loss.data.numpy().item()    "
      ]
    },
    {
      "cell_type": "code",
      "execution_count": null,
      "metadata": {
        "id": "mr-k7-rYgiHF"
      },
      "outputs": [],
      "source": [
        "def update_G(batch_size):\n",
        "    \n",
        "    # 1. sample noise\n",
        "    # 2. obtain generated samples\n",
        "    # 3. compute probability of fake object to be real\n",
        "    \n",
        "    noise = get_uniform(batch_size)\n",
        "    generated_samples = gen(noise)\n",
        "    prob_fake_is_real = disc(generated_samples)\n",
        "    \n",
        "    \n",
        "    # compute loss function\n",
        "    \n",
        "    loss = (- torch.log(prob_fake_is_real)).mean()\n",
        "    \n",
        "    \n",
        "    # make gradient step\n",
        "    generator_opt.zero_grad()\n",
        "    loss.backward()\n",
        "    generator_opt.step()\n",
        "    \n",
        "    return loss.data.numpy().item()    "
      ]
    },
    {
      "cell_type": "code",
      "execution_count": null,
      "metadata": {
        "colab": {
          "background_save": true,
          "base_uri": "https://localhost:8080/",
          "height": 596
        },
        "id": "HSeKOOSUgiHG",
        "outputId": "c6668bc6-f055-4ccd-fb70-5f2af5c1fa7c"
      },
      "outputs": [
        {
          "data": {
            "image/png": "[encoded data removed]",
            "text/plain": [
              "<Figure size 720x720 with 1 Axes>"
            ]
          },
          "metadata": {},
          "output_type": "display_data"
        }
      ],
      "source": [
        "N_DISC_OPERATIONS = 50 # number of updates for the discriminator on each iteration (should be tuned)\n",
        "BATCH_SIZE = 64\n",
        "\n",
        "for i in range(10000):\n",
        "\n",
        "    for _ in range(N_DISC_OPERATIONS):\n",
        "        update_D(BATCH_SIZE)\n",
        "    \n",
        "    update_G(BATCH_SIZE)\n",
        "    \n",
        "    if i % 20 == 0:\n",
        "        clear_output(True)\n",
        "        plt.figure(figsize=[10, 10])\n",
        "        \n",
        "        sns.kdeplot(gen(get_uniform(1000)).data.numpy()[:, 0], label='Generated distribution')\n",
        "        sns.kdeplot(get_normal(1000).data.numpy()[:,0], label='Real distribution')\n",
        "        \n",
        "        x = np.linspace(0,10, dtype='float32')\n",
        "        p_real = disc(torch.from_numpy(x[:, None]))\n",
        "        plt.plot(x, p_real.data.numpy(), label='P(real)')\n",
        "        \n",
        "        axes = plt.gca()\n",
        "        axes.set_ylim([0,1])\n",
        "        \n",
        "        plt.legend()\n",
        "        plt.show()"
      ]
    }
  ],
  "metadata": {
    "accelerator": "GPU",
    "colab": {
      "machine_shape": "hm",
      "name": "GANs_1d.ipynb",
      "provenance": [],
      "include_colab_link": true
    },
    "kernelspec": {
      "display_name": "Python 3",
      "language": "python",
      "name": "python3"
    },
    "language_info": {
      "codemirror_mode": {
        "name": "ipython",
        "version": 3
      },
      "file_extension": ".py",
      "mimetype": "text/x-python",
      "name": "python",
      "nbconvert_exporter": "python",
      "pygments_lexer": "ipython3",
      "version": "3.6.4"
    }
  },
  "nbformat": 4,
  "nbformat_minor": 0
}